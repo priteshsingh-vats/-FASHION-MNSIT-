{
 "cells": [
  {
   "cell_type": "code",
   "execution_count": 1,
   "metadata": {},
   "outputs": [
    {
     "name": "stderr",
     "output_type": "stream",
     "text": [
      "Using TensorFlow backend.\n"
     ]
    }
   ],
   "source": [
    "import pandas as pd\n",
    "import numpy as np\n",
    "from keras.models import Sequential\n",
    "from keras.layers import Input,Convolution2D,MaxPooling2D,Flatten,Dense,Dropout\n",
    "from keras.utils import np_utils\n",
    "import tensorflow"
   ]
  },
  {
   "cell_type": "code",
   "execution_count": 2,
   "metadata": {},
   "outputs": [
    {
     "name": "stdout",
     "output_type": "stream",
     "text": [
      "(60000, 784)\n",
      "(60000,)\n",
      "(10000,)\n"
     ]
    },
    {
     "data": {
      "text/plain": [
       "(array([0, 1, 2, 3, 4, 5, 6, 7, 8, 9], dtype=int64),\n",
       " array([1000, 1000, 1000, 1000, 1000, 1000, 1000, 1000, 1000, 1000],\n",
       "       dtype=int64))"
      ]
     },
     "execution_count": 2,
     "metadata": {},
     "output_type": "execute_result"
    }
   ],
   "source": [
    "xtrain=pd.read_csv(\"./Desktop/fashion-mnist_train.csv\")\n",
    "xtest=pd.read_csv(\"./Desktop/fashion-mnist_test.csv\")\n",
    "x_traini =np.array(xtrain)\n",
    "x_testi =np.array(xtest)\n",
    "x_train = x_traini[:,1:]\n",
    "x_test =x_testi[:,1:]\n",
    "x_train  = x_train/255.0\n",
    "x_test = x_test/255.0\n",
    "y_train  =x_traini[:,0]  \n",
    "y_test  =x_testi[:,0]\n",
    "\n",
    "print(x_train.shape)\n",
    "print(y_train.shape)\n",
    "print(y_test.shape)\n",
    "np.unique(y_test,return_counts =True)#10 classes and it is a balanced split as the\n",
    "# number of example in each class is same\n"
   ]
  },
  {
   "cell_type": "code",
   "execution_count": 3,
   "metadata": {},
   "outputs": [
    {
     "name": "stdout",
     "output_type": "stream",
     "text": [
      "[[1. 0. 0. ... 0. 0. 0.]\n",
      " [0. 1. 0. ... 0. 0. 0.]\n",
      " [0. 0. 1. ... 0. 0. 0.]\n",
      " ...\n",
      " [0. 0. 0. ... 0. 1. 0.]\n",
      " [0. 0. 0. ... 0. 1. 0.]\n",
      " [0. 1. 0. ... 0. 0. 0.]]\n",
      "(60000, 28, 28, 1) (60000, 10)\n",
      "(10000, 28, 28, 1) (10000, 10)\n"
     ]
    }
   ],
   "source": [
    "# We did this because Cnn basically accepts image so -1 for number of images\n",
    "x_test =x_test.reshape((-1,28,28,1))\n",
    "x_train = x_train.reshape((-1,28,28,1))\n",
    "y_train = np_utils.to_categorical(y_train)\n",
    "y_test =np_utils.to_categorical(y_test)\n",
    "print(y_test)\n",
    "print(x_train.shape,y_train.shape)\n",
    "print(x_test.shape,y_test.shape)\n",
    "#10000 examples with 10 classes"
   ]
  },
  {
   "cell_type": "code",
   "execution_count": 17,
   "metadata": {},
   "outputs": [
    {
     "data": {
      "image/png": "[encoded data removed]",
      "text/plain": [
       "<Figure size 576x396 with 1 Axes>"
      ]
     },
     "metadata": {},
     "output_type": "display_data"
    },
    {
     "data": {
      "image/png": "[encoded data removed]",
      "text/plain": [
       "<Figure size 576x396 with 1 Axes>"
      ]
     },
     "metadata": {},
     "output_type": "display_data"
    },
    {
     "data": {
      "image/png": "[encoded data removed]",
      "text/plain": [
       "<Figure size 576x396 with 1 Axes>"
      ]
     },
     "metadata": {},
     "output_type": "display_data"
    },
    {
     "data": {
      "image/png": "[encoded data removed]",
      "text/plain": [
       "<Figure size 576x396 with 1 Axes>"
      ]
     },
     "metadata": {},
     "output_type": "display_data"
    },
    {
     "data": {
      "image/png": "[encoded data removed]",
      "text/plain": [
       "<Figure size 576x396 with 1 Axes>"
      ]
     },
     "metadata": {},
     "output_type": "display_data"
    }
   ],
   "source": [
    "\n",
    "\n",
    "import matplotlib.pyplot as plt\n",
    "\n",
    "plt.style.use(\"seaborn\")\n",
    "for i in range(5): \n",
    "    plt.axis(\"off\")\n",
    "    plt.imshow(x_train[i].reshape(28,28),cmap='gray')\n",
    "    #plt.imshow(x_test[i].reshape(28,28),cmap='gray')\n",
    "    #print(x_train[i].shape)\n",
    "    plt.show()"
   ]
  },
  {
   "cell_type": "code",
   "execution_count": 5,
   "metadata": {},
   "outputs": [],
   "source": [
    "##Cnn Model"
   ]
  },
  {
   "cell_type": "code",
   "execution_count": 6,
   "metadata": {},
   "outputs": [
    {
     "name": "stdout",
     "output_type": "stream",
     "text": [
      "WARNING:tensorflow:From C:\\Users\\pritesh kumar singh\\Anaconda3\\lib\\site-packages\\tensorflow\\python\\ops\\resource_variable_ops.py:435: colocate_with (from tensorflow.python.framework.ops) is deprecated and will be removed in a future version.\n",
      "Instructions for updating:\n",
      "Colocations handled automatically by placer.\n",
      "Model: \"sequential_1\"\n",
      "_________________________________________________________________\n",
      "Layer (type)                 Output Shape              Param #   \n",
      "=================================================================\n",
      "conv2d_1 (Conv2D)            (None, 26, 26, 32)        320       \n",
      "_________________________________________________________________\n",
      "conv2d_2 (Conv2D)            (None, 24, 24, 64)        18496     \n",
      "_________________________________________________________________\n",
      "dropout_1 (Dropout)          (None, 24, 24, 64)        0         \n",
      "_________________________________________________________________\n",
      "max_pooling2d_1 (MaxPooling2 (None, 12, 12, 64)        0         \n",
      "_________________________________________________________________\n",
      "conv2d_3 (Conv2D)            (None, 8, 8, 32)          51232     \n",
      "_________________________________________________________________\n",
      "conv2d_4 (Conv2D)            (None, 4, 4, 8)           6408      \n",
      "_________________________________________________________________\n",
      "flatten_1 (Flatten)          (None, 128)               0         \n",
      "_________________________________________________________________\n",
      "dense_1 (Dense)              (None, 10)                1290      \n",
      "=================================================================\n",
      "Total params: 77,746\n",
      "Trainable params: 77,746\n",
      "Non-trainable params: 0\n",
      "_________________________________________________________________\n"
     ]
    }
   ],
   "source": [
    "model =Sequential()\n",
    "#32 is the number of filters, size of filter is 3*3 ,activation is relu ,\n",
    "#input is basically a image of shape 28*28*1\n",
    "model.add(Convolution2D(32,(3,3),activation='relu',input_shape=(28,28,1)))\n",
    "model.add(Convolution2D(64,(3,3),activation='relu'))\n",
    "model.add(Dropout(0.25))\n",
    "model.add(MaxPooling2D(2,2))\n",
    "model.add(Convolution2D(32,(5,5),activation='relu'))\n",
    "model.add(Convolution2D(8,(5,5),activation='relu'))\n",
    "model.add(Flatten())\n",
    "model.add(Dense(10,activation=\"softmax\"))\n",
    "model.summary()"
   ]
  },
  {
   "cell_type": "code",
   "execution_count": 7,
   "metadata": {},
   "outputs": [],
   "source": [
    "model.compile(loss='categorical_crossentropy',optimizer=\"adam\",metrics=[\"accuracy\"])"
   ]
  },
  {
   "cell_type": "code",
   "execution_count": 8,
   "metadata": {
    "scrolled": true
   },
   "outputs": [
    {
     "name": "stdout",
     "output_type": "stream",
     "text": [
      "WARNING:tensorflow:From C:\\Users\\pritesh kumar singh\\Anaconda3\\lib\\site-packages\\tensorflow\\python\\ops\\math_ops.py:3066: to_int32 (from tensorflow.python.ops.math_ops) is deprecated and will be removed in a future version.\n",
      "Instructions for updating:\n",
      "Use tf.cast instead.\n",
      "Train on 48000 samples, validate on 12000 samples\n",
      "Epoch 1/20\n",
      "48000/48000 [==============================] - 143s 3ms/step - loss: 1.0674 - accuracy: 0.6137 - val_loss: 0.6227 - val_accuracy: 0.7758\n",
      "Epoch 2/20\n",
      "48000/48000 [==============================] - 141s 3ms/step - loss: 0.5368 - accuracy: 0.7987 - val_loss: 0.5008 - val_accuracy: 0.8268\n",
      "Epoch 3/20\n",
      "48000/48000 [==============================] - 145s 3ms/step - loss: 0.4487 - accuracy: 0.8394 - val_loss: 0.4380 - val_accuracy: 0.8512\n",
      "Epoch 4/20\n",
      "48000/48000 [==============================] - 147s 3ms/step - loss: 0.4048 - accuracy: 0.8556 - val_loss: 0.4194 - val_accuracy: 0.8556\n",
      "Epoch 5/20\n",
      "48000/48000 [==============================] - 146s 3ms/step - loss: 0.3736 - accuracy: 0.8667 - val_loss: 0.3910 - val_accuracy: 0.8687\n",
      "Epoch 6/20\n",
      "48000/48000 [==============================] - 146s 3ms/step - loss: 0.3511 - accuracy: 0.8737 - val_loss: 0.3655 - val_accuracy: 0.8746\n",
      "Epoch 7/20\n",
      "48000/48000 [==============================] - 144s 3ms/step - loss: 0.3306 - accuracy: 0.8820 - val_loss: 0.3578 - val_accuracy: 0.8792\n",
      "Epoch 8/20\n",
      "48000/48000 [==============================] - 144s 3ms/step - loss: 0.3211 - accuracy: 0.8841 - val_loss: 0.3382 - val_accuracy: 0.8878\n",
      "Epoch 9/20\n",
      "48000/48000 [==============================] - 144s 3ms/step - loss: 0.3074 - accuracy: 0.8899 - val_loss: 0.3283 - val_accuracy: 0.8889\n",
      "Epoch 10/20\n",
      "48000/48000 [==============================] - 145s 3ms/step - loss: 0.2929 - accuracy: 0.8943 - val_loss: 0.3160 - val_accuracy: 0.8942\n",
      "Epoch 11/20\n",
      "48000/48000 [==============================] - 144s 3ms/step - loss: 0.2837 - accuracy: 0.8978 - val_loss: 0.3143 - val_accuracy: 0.8970\n",
      "Epoch 12/20\n",
      "48000/48000 [==============================] - 144s 3ms/step - loss: 0.2752 - accuracy: 0.9007 - val_loss: 0.3023 - val_accuracy: 0.8967\n",
      "Epoch 13/20\n",
      "48000/48000 [==============================] - 144s 3ms/step - loss: 0.2689 - accuracy: 0.9022 - val_loss: 0.3044 - val_accuracy: 0.8977\n",
      "Epoch 14/20\n",
      "48000/48000 [==============================] - 144s 3ms/step - loss: 0.2606 - accuracy: 0.9068 - val_loss: 0.2953 - val_accuracy: 0.8987\n",
      "Epoch 15/20\n",
      "48000/48000 [==============================] - 144s 3ms/step - loss: 0.2512 - accuracy: 0.9098 - val_loss: 0.2955 - val_accuracy: 0.8975\n",
      "Epoch 16/20\n",
      "48000/48000 [==============================] - 145s 3ms/step - loss: 0.2487 - accuracy: 0.9104 - val_loss: 0.3010 - val_accuracy: 0.8993\n",
      "Epoch 17/20\n",
      "48000/48000 [==============================] - 142s 3ms/step - loss: 0.2389 - accuracy: 0.9146 - val_loss: 0.2892 - val_accuracy: 0.9013\n",
      "Epoch 18/20\n",
      "48000/48000 [==============================] - 142s 3ms/step - loss: 0.2329 - accuracy: 0.9165 - val_loss: 0.2840 - val_accuracy: 0.9004\n",
      "Epoch 19/20\n",
      "48000/48000 [==============================] - 142s 3ms/step - loss: 0.2287 - accuracy: 0.9170 - val_loss: 0.2787 - val_accuracy: 0.9050\n",
      "Epoch 20/20\n",
      "48000/48000 [==============================] - 142s 3ms/step - loss: 0.2266 - accuracy: 0.9182 - val_loss: 0.2760 - val_accuracy: 0.9078\n"
     ]
    }
   ],
   "source": [
    "hist=model.fit(x_train,y_train,epochs=20,shuffle=True,batch_size=512,validation_split=.20)"
   ]
  },
  {
   "cell_type": "code",
   "execution_count": 9,
   "metadata": {},
   "outputs": [
    {
     "name": "stdout",
     "output_type": "stream",
     "text": [
      "{'val_loss': [0.6227024207115174, 0.5008309019406637, 0.4379604467550913, 0.4194477511246999, 0.3910423100789388, 0.3655320042769114, 0.35776516890525817, 0.3381548313299815, 0.32831140716870627, 0.3159845867951711, 0.3143496868610382, 0.3023138846556346, 0.30439923667907715, 0.29526065214474995, 0.29552078326543174, 0.3010115557511647, 0.2891545517444611, 0.28396413842837015, 0.2786535536448161, 0.27595761744181313], 'val_accuracy': [0.7758333086967468, 0.8268333077430725, 0.8511666655540466, 0.8555833101272583, 0.8687499761581421, 0.8745833039283752, 0.8792499899864197, 0.8878333568572998, 0.8889166712760925, 0.8942499756813049, 0.8970000147819519, 0.8967499732971191, 0.8976666927337646, 0.8986666798591614, 0.8974999785423279, 0.8993333578109741, 0.9013333320617676, 0.9004166722297668, 0.9049999713897705, 0.9077500104904175], 'loss': [1.0673811955451966, 0.5368400311470032, 0.4486892681121826, 0.4047745773792267, 0.37363422926266987, 0.3510557963848114, 0.330630730231603, 0.32105443453788757, 0.3073721444606781, 0.29285525377591454, 0.283670844078064, 0.2751517236232758, 0.26891055818398796, 0.2605525541702906, 0.25124847594896954, 0.24867937684059144, 0.2389257691701253, 0.23285897835095723, 0.2286601171096166, 0.22658029488722484], 'accuracy': [0.6137083, 0.7986875, 0.8393958, 0.85564584, 0.86672914, 0.87375, 0.8819583, 0.88408333, 0.88991666, 0.89429164, 0.8977708, 0.90075, 0.9022083, 0.90683335, 0.9098125, 0.91035414, 0.9145625, 0.91652083, 0.917, 0.91816664]}\n"
     ]
    }
   ],
   "source": [
    "h =hist.history\n",
    "print(h)"
   ]
  },
  {
   "cell_type": "code",
   "execution_count": 10,
   "metadata": {},
   "outputs": [],
   "source": [
    "\n",
    "import matplotlib.pyplot as plt"
   ]
  },
  {
   "cell_type": "code",
   "execution_count": 11,
   "metadata": {
    "scrolled": true
   },
   "outputs": [
    {
     "data": {
      "image/png": "[encoded data removed]",
      "text/plain": [
       "<Figure size 576x396 with 1 Axes>"
      ]
     },
     "metadata": {},
     "output_type": "display_data"
    },
    {
     "data": {
      "image/png": "[encoded data removed]",
      "text/plain": [
       "<Figure size 576x396 with 1 Axes>"
      ]
     },
     "metadata": {},
     "output_type": "display_data"
    },
    {
     "data": {
      "image/png": "[encoded data removed]",
      "text/plain": [
       "<Figure size 576x396 with 1 Axes>"
      ]
     },
     "metadata": {},
     "output_type": "display_data"
    }
   ],
   "source": [
    "plt.style.use(\"seaborn\")\n",
    "plt.title(\"comparative analysis of val_loss and loss\")\n",
    "plt.plot(h['val_loss'],label=\"validation loss\")\n",
    "plt.plot(h['loss'],label='loss')\n",
    "plt.xlabel(\"epoches\")\n",
    "plt.legend()\n",
    "plt.show()\n",
    "plt.plot(h['accuracy'],label=\"accuracy\")\n",
    "plt.plot(h['val_accuracy'],label=\"validatio Accuracy\")\n",
    "plt.title(\"comparative analysis of val_acc and accuracy\")\n",
    "plt.xlabel(\"epoches\")\n",
    "plt.legend()\n",
    "plt.show()\n",
    "plt.title(\"\")\n",
    "plt.plot(h['val_loss'],label=\"validation loss\")\n",
    "plt.plot(h['loss'],label='loss')\n",
    "plt.plot(h['accuracy'],label=\"accuracy\")\n",
    "plt.plot(h['val_accuracy'],label=\"validatio Accuracy\")\n",
    "plt.title(\"comparative analysis of val_acc,accuracy and val_loss,loss\")\n",
    "plt.xlabel(\"epoches\")\n",
    "plt.legend()\n",
    "plt.show()\n"
   ]
  },
  {
   "cell_type": "code",
   "execution_count": 12,
   "metadata": {},
   "outputs": [
    {
     "name": "stdout",
     "output_type": "stream",
     "text": [
      "60000/60000 [==============================] - 40s 667us/step\n"
     ]
    },
    {
     "data": {
      "text/plain": [
       "0.9243000149726868"
      ]
     },
     "execution_count": 12,
     "metadata": {},
     "output_type": "execute_result"
    }
   ],
   "source": [
    "model.evaluate(x_train,y_train)[1]\n"
   ]
  },
  {
   "cell_type": "code",
   "execution_count": 13,
   "metadata": {},
   "outputs": [
    {
     "name": "stdout",
     "output_type": "stream",
     "text": [
      "10000/10000 [==============================] - 7s 679us/step\n"
     ]
    },
    {
     "data": {
      "text/plain": [
       "0.9111999869346619"
      ]
     },
     "execution_count": 13,
     "metadata": {},
     "output_type": "execute_result"
    }
   ],
   "source": [
    "model.evaluate(x_test,y_test)[1]"
   ]
  },
  {
   "cell_type": "code",
   "execution_count": 14,
   "metadata": {},
   "outputs": [],
   "source": [
    "fashion = {0:\"T-shirt/Top\",1:\"Trouser\",2:\"Pullover\",3:\"Dress\",4:\"Coat\",5:\"Sandal\",6:\"Shirt\",7:\"Sneeker\",8:\"Bag\",9:\"Ankel Boot\"}\n",
    "import cv2\n",
    "def prediction(r):\n",
    "     print(fashion[r]+\" class \"+str(r))\n",
    "def evaluate_model(path):\n",
    "    fashion = {0:\"T-shirt/Top\",1:\"Trouser\",2:\"Pullover\",3:\"Dress\",4:\"Coat\",5:\"Sandal\",6:\"Shirt\",7:\"Sneeker\",8:\"Bag\",9:\"Ankel Boot\"}\n",
    "    testingimage= cv2.imread(path)\n",
    "    gray = cv2.cvtColor(testingimage, cv2.COLOR_BGR2GRAY)\n",
    "    plt.style.use(\"seaborn\")\n",
    "    plt.imshow(gray,cmap='gray')\n",
    "    plt.colorbar()\n",
    "    plt.axis(\"off\")\n",
    "    final = cv2.resize(gray,(28,28))\n",
    "    final_1 = final.reshape(-1,28,28,1)\n",
    "    #print(final_1.shape)\n",
    "    k = model.predict(final_1)\n",
    "    result = np.argmax(k[0])\n",
    "    #print(result)\n",
    "    prediction(result)\n",
    "    return result"
   ]
  },
  {
   "cell_type": "code",
   "execution_count": 15,
   "metadata": {},
   "outputs": [
    {
     "name": "stdout",
     "output_type": "stream",
     "text": [
      "Ankel Boot class 9\n"
     ]
    },
    {
     "data": {
      "text/plain": [
       "9"
      ]
     },
     "execution_count": 15,
     "metadata": {},
     "output_type": "execute_result"
    },
    {
     "data": {
      "image/png": "[encoded data removed]",
      "text/plain": [
       "<Figure size 576x396 with 2 Axes>"
      ]
     },
     "metadata": {},
     "output_type": "display_data"
    }
   ],
   "source": [
    "evaluate_model(\"./Desktop/fashion/img/fashion1232.png\")"
   ]
  },
  {
   "cell_type": "code",
   "execution_count": 19,
   "metadata": {},
   "outputs": [
    {
     "name": "stdout",
     "output_type": "stream",
     "text": [
      "Ankel Boot class 9\n",
      "Dress class 3\n",
      "Dress class 3\n",
      "Bag class 8\n",
      "Shirt class 6\n",
      "Coat class 4\n",
      "Bag class 8\n",
      "Coat class 4\n",
      "Shirt class 6\n",
      "Sandal class 5\n",
      "Ankel Boot class 9\n",
      "Dress class 3\n",
      "T-shirt/Top class 0\n",
      "Pullover class 2\n",
      "Dress class 3\n",
      "Pullover class 2\n",
      "Coat class 4\n",
      "Coat class 4\n",
      "Bag class 8\n",
      "Pullover class 2\n",
      "Sandal class 5\n",
      "Dress class 3\n",
      "Shirt class 6\n",
      "Coat class 4\n",
      "Sneeker class 7\n",
      "Pullover class 2\n",
      "T-shirt/Top class 0\n",
      "Pullover class 2\n",
      "Pullover class 2\n",
      "Sneeker class 7\n",
      "Shirt class 6\n",
      "Bag class 8\n",
      "Trouser class 1\n",
      "Sneeker class 7\n",
      "Coat class 4\n",
      "Bag class 8\n",
      "Pullover class 2\n",
      "Ankel Boot class 9\n",
      "Trouser class 1\n",
      "Ankel Boot class 9\n",
      "Trouser class 1\n",
      "Trouser class 1\n",
      "Dress class 3\n",
      "Sandal class 5\n",
      "Bag class 8\n",
      "Coat class 4\n",
      "Coat class 4\n",
      "Shirt class 6\n",
      "Shirt class 6\n",
      "Shirt class 6\n",
      "Sneeker class 7\n",
      "Ankel Boot class 9\n",
      "Coat class 4\n",
      "Shirt class 6\n",
      "Trouser class 1\n",
      "Ankel Boot class 9\n",
      "Sandal class 5\n",
      "Sandal class 5\n",
      "Trouser class 1\n",
      "Coat class 4\n",
      "Shirt class 6\n",
      "T-shirt/Top class 0\n",
      "Bag class 8\n",
      "Bag class 8\n",
      "Pullover class 2\n",
      "Trouser class 1\n",
      "Shirt class 6\n",
      "Shirt class 6\n",
      "Shirt class 6\n",
      "Shirt class 6\n",
      "Sandal class 5\n",
      "Shirt class 6\n",
      "Sandal class 5\n",
      "Pullover class 2\n",
      "Pullover class 2\n",
      "Sandal class 5\n",
      "Dress class 3\n",
      "Bag class 8\n",
      "Bag class 8\n",
      "Sneeker class 7\n",
      "Shirt class 6\n",
      "Bag class 8\n",
      "Ankel Boot class 9\n",
      "Sandal class 5\n",
      "Ankel Boot class 9\n",
      "Coat class 4\n",
      "Sneeker class 7\n",
      "Dress class 3\n",
      "T-shirt/Top class 0\n",
      "Dress class 3\n",
      "Pullover class 2\n",
      "Dress class 3\n",
      "Dress class 3\n",
      "Sneeker class 7\n",
      "Pullover class 2\n",
      "Coat class 4\n",
      "T-shirt/Top class 0\n",
      "Shirt class 6\n",
      "Bag class 8\n",
      "Dress class 3\n",
      "Dress class 3\n",
      "Sneeker class 7\n",
      "Bag class 8\n",
      "Shirt class 6\n",
      "Sandal class 5\n",
      "Sandal class 5\n",
      "T-shirt/Top class 0\n",
      "Pullover class 2\n",
      "T-shirt/Top class 0\n",
      "Dress class 3\n",
      "Coat class 4\n",
      "Trouser class 1\n",
      "Pullover class 2\n",
      "Ankel Boot class 9\n",
      "Trouser class 1\n",
      "Shirt class 6\n",
      "Dress class 3\n",
      "Trouser class 1\n",
      "Coat class 4\n",
      "Shirt class 6\n",
      "Shirt class 6\n",
      "Trouser class 1\n",
      "Ankel Boot class 9\n",
      "Sandal class 5\n",
      "Trouser class 1\n",
      "Dress class 3\n",
      "Sandal class 5\n",
      "Bag class 8\n",
      "Ankel Boot class 9\n",
      "Bag class 8\n",
      "Trouser class 1\n",
      "Sneeker class 7\n",
      "Ankel Boot class 9\n",
      "Ankel Boot class 9\n",
      "Ankel Boot class 9\n",
      "Trouser class 1\n",
      "Pullover class 2\n",
      "Ankel Boot class 9\n",
      "Dress class 3\n",
      "Shirt class 6\n",
      "Coat class 4\n",
      "Trouser class 1\n",
      "Trouser class 1\n",
      "Bag class 8\n"
     ]
    },
    {
     "data": {
      "image/png": "[encoded data removed]",
      "text/plain": [
       "<Figure size 576x396 with 145 Axes>"
      ]
     },
     "metadata": {},
     "output_type": "display_data"
    }
   ],
   "source": [
    "import os,shutil\n",
    "from keras.preprocessing import image\n",
    "import os\n",
    "kwe = os.listdir(\"./Desktop/Finaldata\")\n",
    "for ix in kwe:\n",
    "    imagen = image.load_img(\"./Desktop/Finaldata/\"+ix,target_size=(28,28))\n",
    "    imagen1 = \"./Desktop/Finaldata/\"+ix\n",
    "    resultf = evaluate_model(imagen1)\n",
    "    if resultf ==0:\n",
    "        if not os.path.isdir(\"./Desktop/hur1/T-shirt\"):\n",
    "            os.mkdir(\"./Desktop/hur1/T-shirt\")\n",
    "            src = \"./Desktop/Finaldata/\"+ix\n",
    "            dest = \"./Desktop/hur1/T-shirt/\"+ix\n",
    "            shutil.move(src,dest)  \n",
    "        else:\n",
    "            src = \"./Desktop/Finaldata/\"+ix\n",
    "            dest = \"./Desktop/hur1/T-shirt/\"+ix\n",
    "            shutil.move(src,dest)\n",
    "    elif resultf ==1:\n",
    "        if not os.path.isdir(\"./Desktop/hur1/Trouser\"):\n",
    "            os.mkdir(\"./Desktop/hur1/Trouser\")\n",
    "            src = \"./Desktop/Finaldata/\"+ix\n",
    "            dest = \"./Desktop/hur1/Trouser/\"+ix\n",
    "            shutil.move(src,dest)        \n",
    "        else:\n",
    "            src = \"./Desktop/Finaldata/\"+ix\n",
    "            dest = \"./Desktop/hur1/Trouser/\"+ix\n",
    "            shutil.move(src,dest)\n",
    "    elif resultf ==2:\n",
    "        if not os.path.isdir(\"./Desktop/hur1/Pullover\"):\n",
    "            os.mkdir(\"./Desktop/hur1/Pullover\")\n",
    "            src = \"./Desktop/Finaldata/\"+ix\n",
    "            dest = \"./Desktop/hur1/pullover/\"+ix\n",
    "            shutil.move(src,dest)        \n",
    "        else:\n",
    "            src = \"./Desktop/Finaldata/\"+ix\n",
    "            dest = \"./Desktop/hur1/pullover/\"+ix\n",
    "            shutil.move(src,dest)\n",
    "    elif resultf ==3:\n",
    "        if not os.path.isdir(\"./Desktop/hur1/Dress\"):\n",
    "            os.mkdir(\"./Desktop/hur1/Dress\")\n",
    "            src = \"./Desktop/Finaldata/\"+ix\n",
    "            dest = \"./Desktop/hur1/Dress/\"+ix\n",
    "            shutil.move(src,dest)        \n",
    "        else:\n",
    "            src = \"./Desktop/Finaldata/\"+ix\n",
    "            dest = \"./Desktop/hur1/Dress/\"+ix\n",
    "            shutil.move(src,dest)\n",
    "    elif resultf ==4:\n",
    "        if not os.path.isdir(\"./Desktop/hur1/Coat\"):\n",
    "            os.mkdir(\"./Desktop/hur1/coat\")\n",
    "            src = \"./Desktop/Finaldata/\"+ix\n",
    "            dest = \"./Desktop/hur1/coat/\"+ix\n",
    "            shutil.move(src,dest)        \n",
    "        else:\n",
    "            src = \"./Desktop/Finaldata/\"+ix\n",
    "            dest = \"./Desktop/hur1/coat/\"+ix\n",
    "            shutil.move(src,dest)\n",
    "    elif resultf ==5:\n",
    "        if not os.path.isdir(\"./Desktop/hur1/sandal\"):\n",
    "            os.mkdir(\"./Desktop/hur1/sandal\")\n",
    "            src = \"./Desktop/Finaldata/\"+ix\n",
    "            dest = \"./Desktop/hur1/sandal/\"+ix\n",
    "            shutil.move(src,dest)        \n",
    "        else:\n",
    "            src = \"./Desktop/Finaldata/\"+ix\n",
    "            dest = \"./Desktop/hur1/sandal/\"+ix\n",
    "            shutil.move(src,dest)\n",
    "    elif resultf ==6:\n",
    "        if not os.path.isdir(\"./Desktop/hur1/shirt\"):\n",
    "            os.mkdir(\"./Desktop/hur1/shirt\")\n",
    "            src = \"./Desktop/Finaldata/\"+ix\n",
    "            dest = \"./Desktop/hur1/shirt/\"+ix\n",
    "            shutil.move(src,dest)        \n",
    "        else:\n",
    "            src = \"./Desktop/Finaldata/\"+ix\n",
    "            dest = \"./Desktop/hur1/shirt/\"+ix\n",
    "            shutil.move(src,dest)\n",
    "    elif resultf ==7:\n",
    "        if not os.path.isdir(\"./Desktop/hur1/Sneaker\"):\n",
    "            os.mkdir(\"./Desktop/hur1/Sneaker\")\n",
    "            src = \"./Desktop/Finaldata/\"+ix\n",
    "            dest = \"./Desktop/hur1/Sneaker/\"+ix\n",
    "            shutil.move(src,dest)        \n",
    "        else:\n",
    "            src = \"./Desktop/Finaldata/\"+ix\n",
    "            dest = \"./Desktop/hur1/Sneaker/\"+ix\n",
    "            shutil.move(src,dest)\n",
    "    elif resultf ==8:\n",
    "        if not os.path.isdir(\"./Desktop/hur1/Bag\"):\n",
    "            os.mkdir(\"./Desktop/hur1/Bag\")\n",
    "            src = \"./Desktop/Finaldata/\"+ix\n",
    "            dest = \"./Desktop/hur1/Bag/\"+ix\n",
    "            shutil.move(src,dest)        \n",
    "        else:\n",
    "            src = \"./Desktop/Finaldata/\"+ix\n",
    "            dest = \"./Desktop/hur1/Bag/\"+ix\n",
    "            shutil.move(src,dest)\n",
    "    elif resultf ==9:\n",
    "        if not os.path.isdir(\"./Desktop/hur1/Boot\"):\n",
    "            os.mkdir(\"./Desktop/hur1/Boot\")\n",
    "            src = \"./Desktop/Finaldata/\"+ix\n",
    "            dest = \"./Desktop/hur1/Boot/\"+ix\n",
    "            shutil.move(src,dest)        \n",
    "        else:\n",
    "            src = \"./Desktop/Finaldata/\"+ix\n",
    "            dest = \"./Desktop/hur1/Boot/\"+ix\n",
    "            shutil.move(src,dest)\n",
    "   \n",
    "    \n",
    "    \n",
    "    \n",
    "    "
   ]
  },
  {
   "cell_type": "code",
   "execution_count": null,
   "metadata": {},
   "outputs": [],
   "source": []
  },
  {
   "cell_type": "code",
   "execution_count": null,
   "metadata": {},
   "outputs": [],
   "source": []
  },
  {
   "cell_type": "code",
   "execution_count": null,
   "metadata": {},
   "outputs": [],
   "source": []
  },
  {
   "cell_type": "code",
   "execution_count": null,
   "metadata": {},
   "outputs": [],
   "source": []
  },
  {
   "cell_type": "code",
   "execution_count": null,
   "metadata": {},
   "outputs": [],
   "source": []
  },
  {
   "cell_type": "code",
   "execution_count": null,
   "metadata": {},
   "outputs": [],
   "source": []
  },
  {
   "cell_type": "code",
   "execution_count": null,
   "metadata": {},
   "outputs": [],
   "source": []
  },
  {
   "cell_type": "code",
   "execution_count": null,
   "metadata": {},
   "outputs": [],
   "source": []
  },
  {
   "cell_type": "code",
   "execution_count": null,
   "metadata": {},
   "outputs": [],
   "source": []
  },
  {
   "cell_type": "code",
   "execution_count": 18,
   "metadata": {},
   "outputs": [
    {
     "ename": "NameError",
     "evalue": "name 'resultf' is not defined",
     "output_type": "error",
     "traceback": [
      "\u001b[1;31m---------------------------------------------------------------------------\u001b[0m",
      "\u001b[1;31mNameError\u001b[0m                                 Traceback (most recent call last)",
      "\u001b[1;32m<ipython-input-18-2290e57bedcb>\u001b[0m in \u001b[0;36m<module>\u001b[1;34m\u001b[0m\n\u001b[0;32m      1\u001b[0m \u001b[1;33m\u001b[0m\u001b[0m\n\u001b[1;32m----> 2\u001b[1;33m \u001b[1;32mif\u001b[0m \u001b[0mresultf\u001b[0m \u001b[1;33m==\u001b[0m\u001b[1;36m0\u001b[0m\u001b[1;33m:\u001b[0m\u001b[1;33m\u001b[0m\u001b[1;33m\u001b[0m\u001b[0m\n\u001b[0m\u001b[0;32m      3\u001b[0m        \u001b[1;32mif\u001b[0m \u001b[1;32mnot\u001b[0m \u001b[0mos\u001b[0m\u001b[1;33m.\u001b[0m\u001b[0mpath\u001b[0m\u001b[1;33m.\u001b[0m\u001b[0misdir\u001b[0m\u001b[1;33m(\u001b[0m\u001b[1;34m\"./Desktop/hur1/T-shirt\"\u001b[0m\u001b[1;33m)\u001b[0m\u001b[1;33m:\u001b[0m\u001b[1;33m\u001b[0m\u001b[1;33m\u001b[0m\u001b[0m\n\u001b[0;32m      4\u001b[0m            \u001b[0mos\u001b[0m\u001b[1;33m.\u001b[0m\u001b[0mmkdir\u001b[0m\u001b[1;33m(\u001b[0m\u001b[1;34m\"./Desktop/hur1/T-shirt\"\u001b[0m\u001b[1;33m)\u001b[0m\u001b[1;33m\u001b[0m\u001b[1;33m\u001b[0m\u001b[0m\n\u001b[0;32m      5\u001b[0m            \u001b[0msrc\u001b[0m \u001b[1;33m=\u001b[0m \u001b[1;34m\"./Desktop/Finaldata/\"\u001b[0m\u001b[1;33m+\u001b[0m\u001b[0mix\u001b[0m\u001b[1;33m\u001b[0m\u001b[1;33m\u001b[0m\u001b[0m\n",
      "\u001b[1;31mNameError\u001b[0m: name 'resultf' is not defined"
     ]
    }
   ],
   "source": [
    " \n",
    "if resultf ==0:\n",
    "        if not os.path.isdir(\"./Desktop/hur1/T-shirt\"):\n",
    "            os.mkdir(\"./Desktop/hur1/T-shirt\")\n",
    "            src = \"./Desktop/Finaldata/\"+ix\n",
    "            dest = \"./Desktop/hur1/T-shirt/\"+ix\n",
    "            shutil.move(src,dest)  \n",
    "        else:\n",
    "            src = \"./Desktop/Finaldata/\"+ix\n",
    "            dest = \"./Desktop/hur1/T-shirt/\"+ix\n",
    "            shutil.move(src,dest)\n",
    "elif resultf ==1:\n",
    "    if not os.path.isdir(\"./Desktop/hur1/Trouser\"):\n",
    "            os.mkdir(\"./Desktop/hur1/Trouser\")\n",
    "            src = \"./Desktop/Finaldata/\"+ix\n",
    "            dest = \"./Desktop/hur1/Trouser/\"+ix\n",
    "            shutil.move(src,dest)        \n",
    "    else:\n",
    "        src = \"./Desktop/Finaldata/\"+ix\n",
    "        dest = \"./Desktop/hur1/Trouser/\"+ix\n",
    "        shutil.move(src,dest)\n",
    "elif resultf ==2:\n",
    "    if not os.path.isdir(\"./Desktop/hur1/Pullover\"):\n",
    "            os.mkdir(\"./Desktop/hur1/Pullover\")\n",
    "            src = \"./Desktop/Finaldata/\"+ix\n",
    "            dest = \"./Desktop/hur1/pullover/\"+ix\n",
    "            shutil.move(src,dest)        \n",
    "    else:\n",
    "        src = \"./Desktop/Finaldata/\"+ix\n",
    "        dest = \"./Desktop/hur1/pullover/\"+ix\n",
    "        shutil.move(src,dest)\n",
    "elif resultf ==3:\n",
    "    if not os.path.isdir(\"./Desktop/hur1/Dress\"):\n",
    "            os.mkdir(\"./Desktop/hur1/Dress\")\n",
    "            src = \"./Desktop/Finaldata/\"+ix\n",
    "            dest = \"./Desktop/hur1/Dress/\"+ix\n",
    "            shutil.move(src,dest)        \n",
    "    else:\n",
    "        src = \"./Desktop/Finaldata/\"+ix\n",
    "        dest = \"./Desktop/hur1/Dress/\"+ix\n",
    "        shutil.move(src,dest)\n",
    "elif resultf ==4:\n",
    "    if not os.path.isdir(\"./Desktop/hur1/Coat\"):\n",
    "            os.mkdir(\"./Desktop/hur1/coat\")\n",
    "            src = \"./Desktop/Finaldata/\"+ix\n",
    "            dest = \"./Desktop/hur1/coat/\"+ix\n",
    "            shutil.move(src,dest)        \n",
    "    else:\n",
    "        src = \"./Desktop/Finaldata/\"+ix\n",
    "        dest = \"./Desktop/hur1/coat/\"+ix\n",
    "        shutil.move(src,dest)\n",
    "elif resultf ==5:\n",
    "    if not os.path.isdir(\"./Desktop/hur1/sandal\"):\n",
    "            os.mkdir(\"./Desktop/hur1/sandal\")\n",
    "            src = \"./Desktop/Finaldata/\"+ix\n",
    "            dest = \"./Desktop/hur1/sandal/\"+ix\n",
    "            shutil.move(src,dest)        \n",
    "    else:\n",
    "        src = \"./Desktop/Finaldata/\"+ix\n",
    "        dest = \"./Desktop/hur1/sandal/\"+ix\n",
    "        shutil.move(src,dest)\n",
    "elif resultf ==6:\n",
    "    if not os.path.isdir(\"./Desktop/hur1/shirt\"):\n",
    "            os.mkdir(\"./Desktop/hur1/shirt\")\n",
    "            src = \"./Desktop/Finaldata/\"+ix\n",
    "            dest = \"./Desktop/hur1/shirt/\"+ix\n",
    "            shutil.move(src,dest)        \n",
    "    else:\n",
    "        src = \"./Desktop/Finaldata/\"+ix\n",
    "        dest = \"./Desktop/hur1/shirt/\"+ix\n",
    "        shutil.move(src,dest)\n",
    "elif resultf ==7:\n",
    "    if not os.path.isdir(\"./Desktop/hur1/Sneaker\"):\n",
    "            os.mkdir(\"./Desktop/hur1/Sneaker\")\n",
    "            src = \"./Desktop/Finaldata/\"+ix\n",
    "            dest = \"./Desktop/hur1/Sneaker/\"+ix\n",
    "            shutil.move(src,dest)        \n",
    "    else:\n",
    "        src = \"./Desktop/Finaldata/\"+ix\n",
    "        dest = \"./Desktop/hur1/Sneaker/\"+ix\n",
    "        shutil.move(src,dest)\n",
    "elif resultf ==8:\n",
    "    if not os.path.isdir(\"./Desktop/hur1/Bag\"):\n",
    "            os.mkdir(\"./Desktop/hur1/Bag\")\n",
    "            src = \"./Desktop/Finaldata/\"+ix\n",
    "            dest = \"./Desktop/hur1/Bag/\"+ix\n",
    "            shutil.move(src,dest)        \n",
    "    else:\n",
    "        src = \"./Desktop/Finaldata/\"+ix\n",
    "        dest = \"./Desktop/hur1/Bag/\"+ix\n",
    "        shutil.move(src,dest)\n",
    "elif resultf ==9:\n",
    "    if not os.path.isdir(\"./Desktop/hur1/Boot\"):\n",
    "            os.mkdir(\"./Desktop/hur1/Boot\")\n",
    "            src = \"./Desktop/Finaldata/\"+ix\n",
    "            dest = \"./Desktop/hur1/Boot/\"+ix\n",
    "            shutil.move(src,dest)        \n",
    "    else:\n",
    "        src = \"./Desktop/Finaldata/\"+ix\n",
    "        dest = \"./Desktop/hur1/Boot/\"+ix\n",
    "        shutil.move(src,dest)\n",
    "        \n",
    "    "
   ]
  },
  {
   "cell_type": "code",
   "execution_count": null,
   "metadata": {},
   "outputs": [],
   "source": []
  },
  {
   "cell_type": "code",
   "execution_count": null,
   "metadata": {},
   "outputs": [],
   "source": []
  },
  {
   "cell_type": "code",
   "execution_count": null,
   "metadata": {},
   "outputs": [],
   "source": []
  },
  {
   "cell_type": "code",
   "execution_count": null,
   "metadata": {},
   "outputs": [],
   "source": []
  },
  {
   "cell_type": "code",
   "execution_count": null,
   "metadata": {},
   "outputs": [],
   "source": []
  },
  {
   "cell_type": "code",
   "execution_count": null,
   "metadata": {},
   "outputs": [],
   "source": []
  },
  {
   "cell_type": "code",
   "execution_count": null,
   "metadata": {},
   "outputs": [],
   "source": []
  },
  {
   "cell_type": "code",
   "execution_count": null,
   "metadata": {},
   "outputs": [],
   "source": [
    "gray = cv2.cvtColor(imagen, cv2.COLOR_BGR2GRAY)\n",
    "    k =np.array(gray)\n",
    "    k11 = k.reshape(1,28,38,1)\n",
    "    kqa = "
   ]
  },
  {
   "cell_type": "code",
   "execution_count": null,
   "metadata": {},
   "outputs": [],
   "source": []
  },
  {
   "cell_type": "code",
   "execution_count": null,
   "metadata": {},
   "outputs": [],
   "source": []
  },
  {
   "cell_type": "code",
   "execution_count": null,
   "metadata": {},
   "outputs": [],
   "source": []
  },
  {
   "cell_type": "code",
   "execution_count": null,
   "metadata": {},
   "outputs": [],
   "source": []
  },
  {
   "cell_type": "code",
   "execution_count": null,
   "metadata": {},
   "outputs": [],
   "source": []
  },
  {
   "cell_type": "code",
   "execution_count": null,
   "metadata": {},
   "outputs": [],
   "source": []
  },
  {
   "cell_type": "code",
   "execution_count": null,
   "metadata": {},
   "outputs": [],
   "source": []
  },
  {
   "cell_type": "code",
   "execution_count": null,
   "metadata": {},
   "outputs": [],
   "source": []
  },
  {
   "cell_type": "code",
   "execution_count": null,
   "metadata": {},
   "outputs": [],
   "source": []
  },
  {
   "cell_type": "code",
   "execution_count": 143,
   "metadata": {},
   "outputs": [
    {
     "name": "stdout",
     "output_type": "stream",
     "text": [
      "(28, 28)\n",
      "(1, 28, 28, 1)\n"
     ]
    }
   ],
   "source": [
    "from PIL import Image\n",
    "img = Image.open(\"./Desktop/fashion/img/fashion29110.png\") #for example image size : 28x28x3\n",
    "img1 = img.convert('L')  #convert a gray scale\n",
    "print(img1.size)\n",
    "y = np.expand_dims(img1, axis=-1)\n",
    "y1 =y.reshape(-1,28,28,1)\n",
    "print(y1.shape)"
   ]
  },
  {
   "cell_type": "code",
   "execution_count": 146,
   "metadata": {},
   "outputs": [
    {
     "name": "stdout",
     "output_type": "stream",
     "text": [
      "[[0. 0. 0. 0. 0. 0. 0. 0. 1. 0.]]\n",
      "Bag class:8\n"
     ]
    },
    {
     "data": {
      "image/png": "[encoded data removed]",
      "text/plain": [
       "<Figure size 576x396 with 2 Axes>"
      ]
     },
     "metadata": {},
     "output_type": "display_data"
    }
   ],
   "source": [
    "plt.style.use(\"seaborn-notebook\")\n",
    "plt.imshow(img,cmap='gray')\n",
    "plt.colorbar()\n",
    "print(k)\n",
    "plt.axis(\"off\")\n",
    "k =model.predict(y1)\n",
    "if k[0][0] == 1:\n",
    "    print(\"T-shirt/Top\"+\" class:0\")\n",
    "elif k[0][1] == 1:\n",
    "    print(\"Trouser\"+\" class:1\")\n",
    "elif k[0][2] == 1:\n",
    "    print(\"Pullover\"+\" class:2\")\n",
    "elif k[0][3] == 1:\n",
    "    print(\"Dress\"+\" class:3\")\n",
    "elif k[0][4] == 1:\n",
    "    print(\"Coat\"+\" class:4\")\n",
    "elif k[0][5] == 1:\n",
    "    print(\"Sandal\"+\" class:5\")\n",
    "elif k[0][6] == 1:\n",
    "    print(\"Shirt\"+\" class:6\")\n",
    "elif k[0][7] == 1:\n",
    "    print(\"Sneaker\"+\" class:7\")\n",
    "elif k[0][8] == 1:\n",
    "    print(\"Bag\"+\" class:8\")\n",
    "elif k[0][9] == 1:\n",
    "    print(\"AnkelBoot\"+\" class:9\")\n"
   ]
  },
  {
   "cell_type": "code",
   "execution_count": 129,
   "metadata": {},
   "outputs": [
    {
     "data": {
      "text/plain": [
       "['bmh',\n",
       " 'classic',\n",
       " 'dark_background',\n",
       " 'fast',\n",
       " 'fivethirtyeight',\n",
       " 'ggplot',\n",
       " 'grayscale',\n",
       " 'seaborn-bright',\n",
       " 'seaborn-colorblind',\n",
       " 'seaborn-dark-palette',\n",
       " 'seaborn-dark',\n",
       " 'seaborn-darkgrid',\n",
       " 'seaborn-deep',\n",
       " 'seaborn-muted',\n",
       " 'seaborn-notebook',\n",
       " 'seaborn-paper',\n",
       " 'seaborn-pastel',\n",
       " 'seaborn-poster',\n",
       " 'seaborn-talk',\n",
       " 'seaborn-ticks',\n",
       " 'seaborn-white',\n",
       " 'seaborn-whitegrid',\n",
       " 'seaborn',\n",
       " 'Solarize_Light2',\n",
       " 'tableau-colorblind10',\n",
       " '_classic_test']"
      ]
     },
     "execution_count": 129,
     "metadata": {},
     "output_type": "execute_result"
    }
   ],
   "source": [
    "\n",
    "plt.style.available"
   ]
  },
  {
   "cell_type": "code",
   "execution_count": 219,
   "metadata": {},
   "outputs": [
    {
     "name": "stdout",
     "output_type": "stream",
     "text": [
      "(1, 28, 28, 1)\n",
      "3\n"
     ]
    },
    {
     "data": {
      "image/png": "[encoded data removed]",
      "text/plain": [
       "<Figure size 576x396 with 1 Axes>"
      ]
     },
     "metadata": {},
     "output_type": "display_data"
    }
   ],
   "source": [
    "\n",
    "test12 = cv2.imread(\"./Desktop/fashion3.png\")\n",
    "gray = cv2.cvtColor(test12, cv2.COLOR_BGR2GRAY)\n",
    "plt.imshow(gray)\n",
    "final = cv2.resize(gray,(28,28))\n",
    "final3 = final.reshape(-1,28,28,1)\n",
    "print(final3.shape)\n",
    "k = model.predict(final3)\n",
    "print(np.argmax(k[0]))"
   ]
  },
  {
   "cell_type": "code",
   "execution_count": null,
   "metadata": {},
   "outputs": [],
   "source": []
  },
  {
   "cell_type": "code",
   "execution_count": 40,
   "metadata": {},
   "outputs": [],
   "source": [
    "hist.history?"
   ]
  },
  {
   "cell_type": "code",
   "execution_count": 36,
   "metadata": {},
   "outputs": [],
   "source": [
    "model.fit?"
   ]
  },
  {
   "cell_type": "code",
   "execution_count": 66,
   "metadata": {},
   "outputs": [
    {
     "name": "stdout",
     "output_type": "stream",
     "text": [
      "()\n"
     ]
    }
   ],
   "source": [
    "print(image1.shape)"
   ]
  },
  {
   "cell_type": "code",
   "execution_count": null,
   "metadata": {},
   "outputs": [],
   "source": []
  }
 ],
 "metadata": {
  "kernelspec": {
   "display_name": "Python 3",
   "language": "python",
   "name": "python3"
  },
  "language_info": {
   "codemirror_mode": {
    "name": "ipython",
    "version": 3
   },
   "file_extension": ".py",
   "mimetype": "text/x-python",
   "name": "python",
   "nbconvert_exporter": "python",
   "pygments_lexer": "ipython3",
   "version": "3.7.3"
  }
 },
 "nbformat": 4,
 "nbformat_minor": 2
}
